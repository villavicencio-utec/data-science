{
 "cells": [
  {
   "cell_type": "markdown",
   "id": "6a7ad2f8",
   "metadata": {},
   "source": [
    "# Syllabus\n",
    "\n",
    "## Module 1 - Python Basics\n",
    "\n",
    "1. Your first program\n",
    "2. Types\n",
    "3. Expressions and Variables\n",
    "4. String Operations\n",
    "\n"
   ]
  },
  {
   "cell_type": "code",
   "execution_count": 2,
   "id": "50a18ca3",
   "metadata": {},
   "outputs": [
    {
     "name": "stdout",
     "output_type": "stream",
     "text": [
      "Hola mundo\n"
     ]
    }
   ],
   "source": [
    "print(\"Hola mundo\")"
   ]
  },
  {
   "cell_type": "code",
   "execution_count": 4,
   "id": "9de3a5a0",
   "metadata": {},
   "outputs": [
    {
     "data": {
      "text/plain": [
       "int"
      ]
     },
     "execution_count": 4,
     "metadata": {},
     "output_type": "execute_result"
    }
   ],
   "source": [
    "type(1)"
   ]
  },
  {
   "cell_type": "code",
   "execution_count": 5,
   "id": "90584b74",
   "metadata": {},
   "outputs": [
    {
     "data": {
      "text/plain": [
       "float"
      ]
     },
     "execution_count": 5,
     "metadata": {},
     "output_type": "execute_result"
    }
   ],
   "source": [
    "type(1.2)"
   ]
  },
  {
   "cell_type": "code",
   "execution_count": 6,
   "id": "ef6161ce",
   "metadata": {},
   "outputs": [
    {
     "data": {
      "text/plain": [
       "bool"
      ]
     },
     "execution_count": 6,
     "metadata": {},
     "output_type": "execute_result"
    }
   ],
   "source": [
    "type(True)"
   ]
  },
  {
   "cell_type": "code",
   "execution_count": 8,
   "id": "15f48a62",
   "metadata": {},
   "outputs": [],
   "source": [
    "x = \"0123456\""
   ]
  },
  {
   "cell_type": "code",
   "execution_count": 16,
   "id": "4eaa0241",
   "metadata": {},
   "outputs": [
    {
     "data": {
      "text/plain": [
       "'0246'"
      ]
     },
     "execution_count": 16,
     "metadata": {},
     "output_type": "execute_result"
    }
   ],
   "source": [
    "x[::2]"
   ]
  },
  {
   "cell_type": "markdown",
   "id": "b5c7a51e",
   "metadata": {},
   "source": [
    "3 + 2 * 2"
   ]
  },
  {
   "cell_type": "markdown",
   "id": "e15862da",
   "metadata": {},
   "source": [
    "# Module 2 - Python Data Structures\n",
    "\n",
    "1. Lists and Tuples\n",
    "2. Sets\n",
    "3. Dictionaries\n"
   ]
  },
  {
   "cell_type": "code",
   "execution_count": 23,
   "id": "d2f85431",
   "metadata": {},
   "outputs": [
    {
     "name": "stdout",
     "output_type": "stream",
     "text": [
      "(10, 2, 3, 5, 12, 20)\n",
      "<class 'tuple'>\n"
     ]
    }
   ],
   "source": [
    "tupla = (10, 2, 3, 5, 12, 20)\n",
    "print(tupla)\n",
    "print(type(tupla))"
   ]
  },
  {
   "cell_type": "code",
   "execution_count": 24,
   "id": "398f057d",
   "metadata": {},
   "outputs": [
    {
     "name": "stdout",
     "output_type": "stream",
     "text": [
      "[2, 3, 5, 10, 12, 20]\n",
      "<class 'list'>\n"
     ]
    }
   ],
   "source": [
    "orden = sorted(tupla)\n",
    "print(orden)\n",
    "print(type(orden))"
   ]
  },
  {
   "cell_type": "code",
   "execution_count": 25,
   "id": "9a09ded2",
   "metadata": {},
   "outputs": [
    {
     "data": {
      "text/plain": [
       "[1, 2, 3, 4, 5, 6, 7, [8, 9]]"
      ]
     },
     "execution_count": 25,
     "metadata": {},
     "output_type": "execute_result"
    }
   ],
   "source": [
    "lista = [ 1, 2, 3, 4, 5, 6, 7]\n",
    "lista.append([8, 9])\n",
    "lista"
   ]
  },
  {
   "cell_type": "code",
   "execution_count": 26,
   "id": "7dcb91ac",
   "metadata": {},
   "outputs": [
    {
     "data": {
      "text/plain": [
       "[1, 2, 3, 4, 5, 6, 7, 8, 9]"
      ]
     },
     "execution_count": 26,
     "metadata": {},
     "output_type": "execute_result"
    }
   ],
   "source": [
    "lista = [ 1, 2, 3, 4, 5, 6, 7]\n",
    "lista.extend([8, 9])\n",
    "lista"
   ]
  },
  {
   "cell_type": "code",
   "execution_count": 27,
   "id": "9371c2ba",
   "metadata": {},
   "outputs": [
    {
     "name": "stdout",
     "output_type": "stream",
     "text": [
      "[1, 2, 3, 4, 5, 6, 1, 2, 6]\n",
      "<class 'list'>\n"
     ]
    }
   ],
   "source": [
    "lista = [ 1, 2, 3, 4, 5, 6, 1, 2, 6]\n",
    "print(lista)\n",
    "print(type(lista))"
   ]
  },
  {
   "cell_type": "code",
   "execution_count": 28,
   "id": "ede17337",
   "metadata": {},
   "outputs": [
    {
     "name": "stdout",
     "output_type": "stream",
     "text": [
      "{1, 2, 3, 4, 5, 6}\n",
      "<class 'set'>\n"
     ]
    }
   ],
   "source": [
    "sets = set(lista)\n",
    "print(sets)\n",
    "print(type(sets))"
   ]
  },
  {
   "cell_type": "code",
   "execution_count": 30,
   "id": "d047578a",
   "metadata": {},
   "outputs": [
    {
     "data": {
      "text/plain": [
       "{1, 2, 3, 4, 5, 6, 'hola'}"
      ]
     },
     "execution_count": 30,
     "metadata": {},
     "output_type": "execute_result"
    }
   ],
   "source": [
    "sets.add(\"hola\")\n",
    "sets"
   ]
  },
  {
   "cell_type": "code",
   "execution_count": 33,
   "id": "ef299daa",
   "metadata": {},
   "outputs": [
    {
     "data": {
      "text/plain": [
       "{3, 4, 5, 6, 'hola'}"
      ]
     },
     "execution_count": 33,
     "metadata": {},
     "output_type": "execute_result"
    }
   ],
   "source": [
    "sets.remove(2)\n",
    "sets"
   ]
  },
  {
   "cell_type": "markdown",
   "id": "d2f477f3",
   "metadata": {},
   "source": [
    "## Module 3 - Python Programming Fundamentals\n",
    "\n",
    "1. Conditions and Branching\n",
    "2. Loops\n",
    "3. Functions\n",
    "4. Objects and Classes\n",
    "\n"
   ]
  },
  {
   "cell_type": "code",
   "execution_count": 34,
   "id": "de98cb5f",
   "metadata": {},
   "outputs": [
    {
     "name": "stdout",
     "output_type": "stream",
     "text": [
      "Condicional False\n"
     ]
    }
   ],
   "source": [
    "i = 10\n",
    "if (i != 10):\n",
    "    print(\"Condicional True\")\n",
    "else:\n",
    "    print(\"Condicional False\")"
   ]
  },
  {
   "cell_type": "code",
   "execution_count": 35,
   "id": "09e114d6",
   "metadata": {},
   "outputs": [
    {
     "name": "stdout",
     "output_type": "stream",
     "text": [
      "0\n",
      "1\n",
      "2\n"
     ]
    }
   ],
   "source": [
    "for i in range(3):\n",
    "    print(i)"
   ]
  },
  {
   "cell_type": "code",
   "execution_count": 36,
   "id": "d1e731dc",
   "metadata": {},
   "outputs": [
    {
     "name": "stdout",
     "output_type": "stream",
     "text": [
      "1\n",
      "2\n",
      "3\n",
      "4\n"
     ]
    }
   ],
   "source": [
    "x = 1\n",
    "while x < 5:\n",
    "    print(x)\n",
    "    x += 1"
   ]
  },
  {
   "cell_type": "code",
   "execution_count": 39,
   "id": "37dadfea",
   "metadata": {},
   "outputs": [
    {
     "name": "stdout",
     "output_type": "stream",
     "text": [
      "Lista inicial _ 1: [10, 9, 8, 7, 6, 5, 4, 3, 2, 1]\n",
      "Lista inicial _ 2: [10, 9, 8, 7, 6, 5, 4, 3, 2, 1]\n",
      "Lista ordenada: [1, 2, 3, 4, 5, 6, 7, 8, 9, 10]\n"
     ]
    }
   ],
   "source": [
    "\n",
    "lista = [10, 9, 8, 7, 6, 5, 4, 3, 2, 1]\n",
    "print(\"Lista inicial _ 1:\",lista)\n",
    "ordenada = sorted(lista)\n",
    "print(\"Lista inicial _ 2:\",lista)\n",
    "print(\"Lista ordenada:\",ordenada)\n"
   ]
  },
  {
   "cell_type": "code",
   "execution_count": 40,
   "id": "3e802f64",
   "metadata": {},
   "outputs": [
    {
     "name": "stdout",
     "output_type": "stream",
     "text": [
      "Lista inicial _ 1: [10, 9, 8, 7, 6, 5, 4, 3, 2, 1]\n",
      "Lista ordenada _ 2: [1, 2, 3, 4, 5, 6, 7, 8, 9, 10]\n"
     ]
    }
   ],
   "source": [
    "lista = [10, 9, 8, 7, 6, 5, 4, 3, 2, 1]\n",
    "print(\"Lista inicial _ 1:\",lista)\n",
    "lista.sort()\n",
    "print(\"Lista ordenada _ 2:\",lista)\n",
    "\n"
   ]
  },
  {
   "cell_type": "code",
   "execution_count": 44,
   "id": "f6c4dd6a",
   "metadata": {},
   "outputs": [
    {
     "data": {
      "text/plain": [
       "3"
      ]
     },
     "execution_count": 44,
     "metadata": {},
     "output_type": "execute_result"
    }
   ],
   "source": [
    "\n",
    "def suma(a, b):\n",
    "    return a + b\n",
    "a = 10\n",
    "b = 20\n",
    "suma(1,2)"
   ]
  },
  {
   "cell_type": "code",
   "execution_count": null,
   "id": "0b34ebac",
   "metadata": {},
   "outputs": [],
   "source": []
  },
  {
   "cell_type": "code",
   "execution_count": null,
   "id": "326dd0bc",
   "metadata": {},
   "outputs": [],
   "source": []
  },
  {
   "cell_type": "markdown",
   "id": "5b93b2e6",
   "metadata": {},
   "source": [
    "## Module 4 - Working with Data in Python\n",
    "\n",
    "1. Reading files with open\n",
    "2. Writing files with open\n",
    "3. Loading data with Pandas\n",
    "4. Working with and Saving data with Pandas"
   ]
  },
  {
   "cell_type": "code",
   "execution_count": null,
   "id": "890a910b",
   "metadata": {},
   "outputs": [],
   "source": []
  },
  {
   "cell_type": "markdown",
   "id": "8f6757b8",
   "metadata": {},
   "source": [
    "## Module 5 - Working with Numpy Arrays & Simple APIs\n",
    "\n",
    "1. Numpy 1D Arrays\n",
    "2. Numpy 2D Arrays\n",
    "3. Simple APIs\n",
    "4. API Setup"
   ]
  }
 ],
 "metadata": {
  "celltoolbar": "Raw Cell Format",
  "kernelspec": {
   "display_name": "Python 3 (ipykernel)",
   "language": "python",
   "name": "python3"
  },
  "language_info": {
   "codemirror_mode": {
    "name": "ipython",
    "version": 3
   },
   "file_extension": ".py",
   "mimetype": "text/x-python",
   "name": "python",
   "nbconvert_exporter": "python",
   "pygments_lexer": "ipython3",
   "version": "3.9.13"
  }
 },
 "nbformat": 4,
 "nbformat_minor": 5
}
